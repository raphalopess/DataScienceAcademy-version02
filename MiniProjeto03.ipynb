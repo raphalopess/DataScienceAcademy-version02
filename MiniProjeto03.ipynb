{
 "cells": [
  {
   "cell_type": "code",
   "execution_count": 1,
   "metadata": {},
   "outputs": [
    {
     "name": "stdout",
     "output_type": "stream",
     "text": [
      "versao da linguagem python usada:  3.9.12\n"
     ]
    }
   ],
   "source": [
    "#/\n",
    "# PERGUNTA 1- Qual a correlação entre os Atributos do Funcionários?\n",
    "# PERGUNTA 2- Qual o tempo de serviço da maioria dos Funcionários?\n",
    "# PERGUNTA 3- Qual a avaliação do ano anterior mais Comum?\n",
    "# PERGUNTA 4- Qual a distribuição das idades dos Funcionários?\n",
    "# PERGUNTA 5- Qual o número de treinamentos mais Frequente?\n",
    "# PERGUNTA 6- Qual a proporção dos funcionários por Canal de Recrutamento?\n",
    "# PERGUNTA 7- Qual a relação entre a promoção e a Avaliação do Ano Interior?\n",
    "# OBJETIVO - Limpar e preparar os dados para então contruir um dashboard no PBI para apresentar seus resultados\n",
    "# /#\n",
    "\n",
    "#versao da linguagem python \n",
    "from platform import python_version\n",
    "print('versao da linguagem python usada: ', python_version())"
   ]
  },
  {
   "cell_type": "code",
   "execution_count": 2,
   "metadata": {},
   "outputs": [],
   "source": [
    "#Pacote usado para gravar as versões de outros pacotes usados nesse jupyter notebook\n",
    "\n",
    "!pip install -q -U watermark"
   ]
  },
  {
   "cell_type": "code",
   "execution_count": 3,
   "metadata": {},
   "outputs": [],
   "source": [
    "#Imports\n",
    "import numpy as np\n",
    "import pandas as pd\n",
    "import matplotlib\n",
    "import matplotlib.pyplot as plt\n",
    "import seaborn as sns"
   ]
  },
  {
   "cell_type": "code",
   "execution_count": null,
   "metadata": {},
   "outputs": [],
   "source": []
  }
 ],
 "metadata": {
  "kernelspec": {
   "display_name": "Python 3.9.12 ('base')",
   "language": "python",
   "name": "python3"
  },
  "language_info": {
   "codemirror_mode": {
    "name": "ipython",
    "version": 3
   },
   "file_extension": ".py",
   "mimetype": "text/x-python",
   "name": "python",
   "nbconvert_exporter": "python",
   "pygments_lexer": "ipython3",
   "version": "3.9.12"
  },
  "orig_nbformat": 4,
  "vscode": {
   "interpreter": {
    "hash": "6f3afbeefc323a199735f8ac4f434ea6242811a76fa746f8214a2e711f87af50"
   }
  }
 },
 "nbformat": 4,
 "nbformat_minor": 2
}
